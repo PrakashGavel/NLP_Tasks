{
  "nbformat": 4,
  "nbformat_minor": 0,
  "metadata": {
    "colab": {
      "provenance": [],
      "include_colab_link": true
    },
    "kernelspec": {
      "name": "python3",
      "display_name": "Python 3"
    },
    "language_info": {
      "name": "python"
    }
  },
  "cells": [
    {
      "cell_type": "markdown",
      "metadata": {
        "id": "view-in-github",
        "colab_type": "text"
      },
      "source": [
        "<a href=\"https://colab.research.google.com/github/PrakashGavel/NLP_Tasks/blob/main/NLPDay4.ipynb\" target=\"_parent\"><img src=\"https://colab.research.google.com/assets/colab-badge.svg\" alt=\"Open In Colab\"/></a>"
      ]
    },
    {
      "cell_type": "code",
      "execution_count": null,
      "metadata": {
        "id": "nUNly6YbkG-7"
      },
      "outputs": [],
      "source": [
        "# Prakash Kumar, 20BCE0080\n",
        "import nltk"
      ]
    },
    {
      "cell_type": "code",
      "source": [
        "from sklearn.feature_extraction.text import CountVectorizer"
      ],
      "metadata": {
        "id": "OxI7NsBWkRNi"
      },
      "execution_count": null,
      "outputs": []
    },
    {
      "cell_type": "code",
      "source": [
        "vect = CountVectorizer(binary=True)"
      ],
      "metadata": {
        "id": "-CS-oqRCkbFu"
      },
      "execution_count": null,
      "outputs": []
    },
    {
      "cell_type": "code",
      "source": [
        "corpus = [\"I have a German Shepherd\", \"Gernman Shrepherd is from Germany\", \"German loves gossiping\"]"
      ],
      "metadata": {
        "id": "JEf2cTaekioG"
      },
      "execution_count": null,
      "outputs": []
    },
    {
      "cell_type": "code",
      "source": [
        "vect.fit(corpus)"
      ],
      "metadata": {
        "colab": {
          "base_uri": "https://localhost:8080/"
        },
        "id": "zOLGZbOZk2rg",
        "outputId": "ef89f5b6-56ea-4759-8790-2c9e79bcac3c"
      },
      "execution_count": null,
      "outputs": [
        {
          "output_type": "execute_result",
          "data": {
            "text/plain": [
              "CountVectorizer(binary=True)"
            ]
          },
          "metadata": {},
          "execution_count": 5
        }
      ]
    },
    {
      "cell_type": "code",
      "source": [
        "vocab=vect.vocabulary_"
      ],
      "metadata": {
        "id": "eum5CtiHlhLA"
      },
      "execution_count": null,
      "outputs": []
    },
    {
      "cell_type": "code",
      "source": [
        "for key in sorted(vocab.keys()):\n",
        "  print(\"{}:{}\".format(key, vocab[key]))"
      ],
      "metadata": {
        "colab": {
          "base_uri": "https://localhost:8080/"
        },
        "id": "Z9Ns-_Fxk6Dh",
        "outputId": "c1f3592d-e9f0-4a27-e943-b232b5919de0"
      },
      "execution_count": null,
      "outputs": [
        {
          "output_type": "stream",
          "name": "stdout",
          "text": [
            "from:0\n",
            "german:1\n",
            "germany:2\n",
            "gernman:3\n",
            "gossiping:4\n",
            "have:5\n",
            "is:6\n",
            "loves:7\n",
            "shepherd:8\n",
            "shrepherd:9\n"
          ]
        }
      ]
    },
    {
      "cell_type": "code",
      "source": [
        "print(vect.transform([\"Germany has German Shepherd\"]).toarray())"
      ],
      "metadata": {
        "colab": {
          "base_uri": "https://localhost:8080/"
        },
        "id": "JPURQNL-lCwe",
        "outputId": "1a084fe5-2c52-4821-9d90-b0211aa43a24"
      },
      "execution_count": null,
      "outputs": [
        {
          "output_type": "stream",
          "name": "stdout",
          "text": [
            "[[0 1 1 0 0 0 0 0 1 0]]\n"
          ]
        }
      ]
    },
    {
      "cell_type": "code",
      "source": [
        "from sklearn.metrics.pairwise import cosine_similarity\n",
        "similarity=cosine_similarity(vect.transform([\"Germany has German Shepherd\"]).toarray(),vect.transform([\"Germany has Berlin as capital\"]).toarray())"
      ],
      "metadata": {
        "id": "p7GFTYPQl9AD"
      },
      "execution_count": null,
      "outputs": []
    },
    {
      "cell_type": "code",
      "source": [
        "print(similarity)"
      ],
      "metadata": {
        "colab": {
          "base_uri": "https://localhost:8080/"
        },
        "id": "X4mxCwmemg-8",
        "outputId": "6bdbc0f8-16ea-4b82-d45a-5114f8d58f01"
      },
      "execution_count": null,
      "outputs": [
        {
          "output_type": "stream",
          "name": "stdout",
          "text": [
            "[[0.57735027]]\n"
          ]
        }
      ]
    },
    {
      "cell_type": "code",
      "source": [
        "#############################"
      ],
      "metadata": {
        "id": "tKowze52kozm"
      },
      "execution_count": null,
      "outputs": []
    },
    {
      "cell_type": "code",
      "source": [
        "vect = CountVectorizer(binary=True)\n",
        "corpus = [\"Adani Group is an Indian multinational conglomerate, headquartered in Ahmedabad. It was founded by Gautam Adani in 1988 as a commodity trading business, with the flagship company Adani Enterprises. The Group's diverse businesses include port management, electric power generation and transmission, renewable energy, mining, airport operations, natural gas, food processing and infrastructure.[3] In April 2021, Adani Group crossed US$100 billion in market capitalization, and in April 2022 it crossed the $200 billion mark, in both cases becoming the third Indian conglomerate to do so, after Tata Group and Reliance Industries.[4][5] In November 2022, it reached $280 billion (INR 24 trillion) surpassing Tata Group.[6] Adani subsequently lost more than $104 billion of market capitalization after fraud and market manipulation allegations by short-seller firm Hindenburg Research. The Adani Group has also attracted other controversies due to various reports of irregular practices.[7][8][9] More than 60 percent of the Adani Group revenue is derived from coal-related businesses.[10] The company's corporate debt totaled $30 billion in 2022.\",\n",
        "          \"Mukesh Dhirubhai Ambani (born 19 April 1957) is an Indian billionaire businessman. He is the chairman and managing director of Reliance Industries Ltd. (RIL), a Fortune Global 500 company and India's most valuable company by market value.[4] According to Forbes and Bloomberg Billionaires Index, Ambani's net worth is estimated at $83.6 billion as of February 2023, making him the richest person in Asia and the 12th richest person in the world.\",\n",
        "          \"Vijay Vittal Mallya (born 18 December 1955) is an Indian businessman,[5] former politician and fugitive.[6][7] He is the subject of an extradition effort by the Indian Government to return him from the UK to face charges of financial crimes in India\"]\n",
        "vect.fit(corpus)"
      ],
      "metadata": {
        "colab": {
          "base_uri": "https://localhost:8080/"
        },
        "id": "FfU2P4JjmkPn",
        "outputId": "35d74ed0-85d1-4796-93e6-9f652c90bddc"
      },
      "execution_count": null,
      "outputs": [
        {
          "output_type": "execute_result",
          "data": {
            "text/plain": [
              "CountVectorizer(binary=True)"
            ]
          },
          "metadata": {},
          "execution_count": 18
        }
      ]
    },
    {
      "cell_type": "code",
      "source": [
        "vocab=vect.vocabulary_"
      ],
      "metadata": {
        "id": "yrc4GtN6npiN"
      },
      "execution_count": null,
      "outputs": []
    },
    {
      "cell_type": "code",
      "source": [
        "for key in sorted(vocab.keys()):\n",
        "  print(\"{}:{}\".format(key, vocab[key]))"
      ],
      "metadata": {
        "colab": {
          "base_uri": "https://localhost:8080/"
        },
        "id": "pLBHLOGNo-Cx",
        "outputId": "8c41a502-d296-45cf-f9ec-40ef06320ff9"
      },
      "execution_count": null,
      "outputs": [
        {
          "output_type": "stream",
          "name": "stdout",
          "text": [
            "10:0\n",
            "100:1\n",
            "104:2\n",
            "12th:3\n",
            "18:4\n",
            "19:5\n",
            "1955:6\n",
            "1957:7\n",
            "1988:8\n",
            "200:9\n",
            "2021:10\n",
            "2022:11\n",
            "2023:12\n",
            "24:13\n",
            "280:14\n",
            "30:15\n",
            "500:16\n",
            "60:17\n",
            "83:18\n",
            "according:19\n",
            "adani:20\n",
            "after:21\n",
            "ahmedabad:22\n",
            "airport:23\n",
            "allegations:24\n",
            "also:25\n",
            "ambani:26\n",
            "an:27\n",
            "and:28\n",
            "april:29\n",
            "as:30\n",
            "asia:31\n",
            "at:32\n",
            "attracted:33\n",
            "becoming:34\n",
            "billion:35\n",
            "billionaire:36\n",
            "billionaires:37\n",
            "bloomberg:38\n",
            "born:39\n",
            "both:40\n",
            "business:41\n",
            "businesses:42\n",
            "businessman:43\n",
            "by:44\n",
            "capitalization:45\n",
            "cases:46\n",
            "chairman:47\n",
            "charges:48\n",
            "coal:49\n",
            "commodity:50\n",
            "company:51\n",
            "conglomerate:52\n",
            "controversies:53\n",
            "corporate:54\n",
            "crimes:55\n",
            "crossed:56\n",
            "debt:57\n",
            "december:58\n",
            "derived:59\n",
            "dhirubhai:60\n",
            "director:61\n",
            "diverse:62\n",
            "do:63\n",
            "due:64\n",
            "effort:65\n",
            "electric:66\n",
            "energy:67\n",
            "enterprises:68\n",
            "estimated:69\n",
            "extradition:70\n",
            "face:71\n",
            "february:72\n",
            "financial:73\n",
            "firm:74\n",
            "flagship:75\n",
            "food:76\n",
            "forbes:77\n",
            "former:78\n",
            "fortune:79\n",
            "founded:80\n",
            "fraud:81\n",
            "from:82\n",
            "fugitive:83\n",
            "gas:84\n",
            "gautam:85\n",
            "generation:86\n",
            "global:87\n",
            "government:88\n",
            "group:89\n",
            "has:90\n",
            "he:91\n",
            "headquartered:92\n",
            "him:93\n",
            "hindenburg:94\n",
            "in:95\n",
            "include:96\n",
            "index:97\n",
            "india:98\n",
            "indian:99\n",
            "industries:100\n",
            "infrastructure:101\n",
            "inr:102\n",
            "irregular:103\n",
            "is:104\n",
            "it:105\n",
            "lost:106\n",
            "ltd:107\n",
            "making:108\n",
            "mallya:109\n",
            "management:110\n",
            "managing:111\n",
            "manipulation:112\n",
            "mark:113\n",
            "market:114\n",
            "mining:115\n",
            "more:116\n",
            "most:117\n",
            "mukesh:118\n",
            "multinational:119\n",
            "natural:120\n",
            "net:121\n",
            "november:122\n",
            "of:123\n",
            "operations:124\n",
            "other:125\n",
            "percent:126\n",
            "person:127\n",
            "politician:128\n",
            "port:129\n",
            "power:130\n",
            "practices:131\n",
            "processing:132\n",
            "reached:133\n",
            "related:134\n",
            "reliance:135\n",
            "renewable:136\n",
            "reports:137\n",
            "research:138\n",
            "return:139\n",
            "revenue:140\n",
            "richest:141\n",
            "ril:142\n",
            "seller:143\n",
            "short:144\n",
            "so:145\n",
            "subject:146\n",
            "subsequently:147\n",
            "surpassing:148\n",
            "tata:149\n",
            "than:150\n",
            "the:151\n",
            "third:152\n",
            "to:153\n",
            "totaled:154\n",
            "trading:155\n",
            "transmission:156\n",
            "trillion:157\n",
            "uk:158\n",
            "us:159\n",
            "valuable:160\n",
            "value:161\n",
            "various:162\n",
            "vijay:163\n",
            "vittal:164\n",
            "was:165\n",
            "with:166\n",
            "world:167\n",
            "worth:168\n"
          ]
        }
      ]
    },
    {
      "cell_type": "code",
      "source": [
        "print(vect.transform([\"Adani Group is an Indian multinational conglomerate, headquartered in Ahmedabad. It was founded by Gautam Adani in 1988 as a commodity trading business, with the flagship company Adani Enterprises. The Group's diverse businesses include port management, electric power generation and transmission, renewable energy, mining, airport operations, natural gas, food processing and infrastructure.[3] In April 2021, Adani Group crossed US$100 billion in market capitalization, and in April 2022 it crossed the $200 billion mark, in both cases becoming the third Indian conglomerate to do so, after Tata Group and Reliance Industries.[4][5] In November 2022, it reached $280 billion (INR 24 trillion) surpassing Tata Group.[6] Adani subsequently lost more than $104 billion of market capitalization after fraud and market manipulation allegations by short-seller firm Hindenburg Research. The Adani Group has also attracted other controversies due to various reports of irregular practices.[7][8][9] More than 60 percent of the Adani Group revenue is derived from coal-related businesses.[10] The company's corporate debt totaled $30 billion in 2022.\"]).toarray())"
      ],
      "metadata": {
        "colab": {
          "base_uri": "https://localhost:8080/"
        },
        "id": "WzIJkhJUpDLu",
        "outputId": "c3b941c8-c15f-4a82-e5ea-40e225f2f7d8"
      },
      "execution_count": null,
      "outputs": [
        {
          "output_type": "stream",
          "name": "stdout",
          "text": [
            "[[1 1 1 0 0 0 0 0 1 1 1 1 0 1 1 1 0 1 0 0 1 1 1 1 1 1 0 1 1 1 1 0 0 1 1 1\n",
            "  0 0 0 0 1 1 1 0 1 1 1 0 0 1 1 1 1 1 1 0 1 1 0 1 0 0 1 1 1 0 1 1 1 0 0 0\n",
            "  0 0 1 1 1 0 0 0 1 1 1 0 1 1 1 0 0 1 1 0 1 0 1 1 1 0 0 1 1 1 1 1 1 1 1 0\n",
            "  0 0 1 0 1 1 1 1 1 0 0 1 1 0 1 1 1 1 1 0 0 1 1 1 1 1 1 1 1 1 1 0 1 0 0 1\n",
            "  1 1 0 1 1 1 1 1 1 1 1 1 1 1 0 1 0 0 1 0 0 1 1 0 0]]\n"
          ]
        }
      ]
    },
    {
      "cell_type": "code",
      "source": [
        "from sklearn.metrics.pairwise import cosine_similarity\n",
        "similarity=cosine_similarity(vect.transform([\"Adani Group is an Indian multinational conglomerate, headquartered in Ahmedabad. It was founded by Gautam Adani in 1988 as a commodity trading business, with the flagship company Adani Enterprises. The Group's diverse businesses include port management, electric power generation and transmission, renewable energy, mining, airport operations, natural gas, food processing and infrastructure.[3] In April 2021, Adani Group crossed US$100 billion in market capitalization, and in April 2022 it crossed the $200 billion mark, in both cases becoming the third Indian conglomerate to do so, after Tata Group and Reliance Industries.[4][5] In November 2022, it reached $280 billion (INR 24 trillion) surpassing Tata Group.[6] Adani subsequently lost more than $104 billion of market capitalization after fraud and market manipulation allegations by short-seller firm Hindenburg Research. The Adani Group has also attracted other controversies due to various reports of irregular practices.[7][8][9] More than 60 percent of the Adani Group revenue is derived from coal-related businesses.[10] The company's corporate debt totaled $30 billion in 2022.\"]).toarray(),vect.transform([\"Mukesh Dhirubhai Ambani (born 19 April 1957) is an Indian billionaire businessman. He is the chairman and managing director of Reliance Industries Ltd. (RIL), a Fortune Global 500 company and India's most valuable company by market value.[4] According to Forbes and Bloomberg Billionaires Index, Ambani's net worth is estimated at $83.6 billion as of February 2023, making him the richest person in Asia and the 12th richest person in the world.\"]).toarray())"
      ],
      "metadata": {
        "id": "oRsZJPinpV8P"
      },
      "execution_count": null,
      "outputs": []
    },
    {
      "cell_type": "code",
      "source": [
        "print(similarity)"
      ],
      "metadata": {
        "colab": {
          "base_uri": "https://localhost:8080/"
        },
        "id": "oOhqvUHUpuSX",
        "outputId": "e30526e8-5387-49fa-9088-44eeb6e33657"
      },
      "execution_count": null,
      "outputs": [
        {
          "output_type": "stream",
          "name": "stdout",
          "text": [
            "[[0.20385888]]\n"
          ]
        }
      ]
    },
    {
      "cell_type": "code",
      "source": [
        "from sklearn.feature_extraction.text import TfidfVectorizer"
      ],
      "metadata": {
        "id": "3zatVT78pxae"
      },
      "execution_count": null,
      "outputs": []
    },
    {
      "cell_type": "code",
      "source": [
        "corpus = ['This is the first document.','This document is the second document.','And this is the third one.', 'Is this the first document?']"
      ],
      "metadata": {
        "id": "RdgYnJurqZ9t"
      },
      "execution_count": null,
      "outputs": []
    },
    {
      "cell_type": "code",
      "source": [
        "vectorizer = TfidfVectorizer()\n",
        "X = vectorizer.fit_transform(corpus)\n",
        "vectorizer.get_feature_names_out()array(['and', 'document', 'first', 'is', 'one', 'second', 'the', 'third','this'])\n",
        "print(X.shape)"
      ],
      "metadata": {
        "id": "0mNTt-CDqhlV"
      },
      "execution_count": null,
      "outputs": []
    },
    {
      "cell_type": "code",
      "source": [],
      "metadata": {
        "id": "3be4O1yprA1b"
      },
      "execution_count": null,
      "outputs": []
    }
  ]
}